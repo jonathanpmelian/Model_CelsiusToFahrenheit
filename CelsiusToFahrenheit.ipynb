{
 "cells": [
  {
   "cell_type": "code",
   "execution_count": 7,
   "id": "079da85f-2887-42c0-8d1d-d32551e8035d",
   "metadata": {},
   "outputs": [
    {
     "name": "stdout",
     "output_type": "stream",
     "text": [
      "   Celsius  Fahrenheit\n",
      "0      -50       -58.0\n",
      "1      -40       -40.0\n",
      "2      -30       -22.0\n",
      "3      -20        -4.0\n",
      "4      -10        14.0\n"
     ]
    }
   ],
   "source": [
    "import tensorflow as tf\n",
    "import pandas as pd\n",
    "\n",
    "#Carga de datos\n",
    "data = pd.read_csv('Downloads/celsius_a_fahrenheit.csv')\n",
    "print(data.head())"
   ]
  },
  {
   "cell_type": "code",
   "execution_count": 8,
   "id": "7dadb38b-e514-4f8c-81e0-14df3dfe28ac",
   "metadata": {},
   "outputs": [
    {
     "name": "stdout",
     "output_type": "stream",
     "text": [
      "Modelo entrenado\n",
      "1/1 [==============================] - 0s 58ms/step\n",
      "[[210.34276]]\n"
     ]
    }
   ],
   "source": [
    "# Preparamos los datos\n",
    "celsius = data['Celsius'].values\n",
    "fahrenheit = data['Fahrenheit'].values\n",
    "\n",
    "# Construccion del modelo\n",
    "model = tf.keras.Sequential([\n",
    "    tf.keras.layers.Dense(units=1, input_shape=[1])\n",
    "])\n",
    "\n",
    "# Compilacion del modelo\n",
    "model.compile(loss='mean_squared_error', optimizer=tf.keras.optimizers.Adam(0.1))\n",
    "\n",
    "# Entrenamiento del modelo\n",
    "history = model.fit(celsius, fahrenheit, epochs=500, verbose=False)\n",
    "print(\"Modelo entrenado\")\n",
    "\n",
    "# Probamos el modelo con un valor de ejemplo\n",
    "print(model.predict([100.0]))"
   ]
  }
 ],
 "metadata": {
  "kernelspec": {
   "display_name": "Python 3 (ipykernel)",
   "language": "python",
   "name": "python3"
  },
  "language_info": {
   "codemirror_mode": {
    "name": "ipython",
    "version": 3
   },
   "file_extension": ".py",
   "mimetype": "text/x-python",
   "name": "python",
   "nbconvert_exporter": "python",
   "pygments_lexer": "ipython3",
   "version": "3.8.19"
  }
 },
 "nbformat": 4,
 "nbformat_minor": 5
}
